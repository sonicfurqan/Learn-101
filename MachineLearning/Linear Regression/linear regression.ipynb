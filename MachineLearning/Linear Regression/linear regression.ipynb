{
 "cells": [
  {
   "cell_type": "markdown",
   "metadata": {},
   "source": [
    "# Calculating Linear Regression using ordanary least sqare method "
   ]
  },
  {
   "cell_type": "markdown",
   "metadata": {},
   "source": [
    "our aim is to plot a progress line for given data points that alowes us to predict next outcome"
   ]
  },
  {
   "cell_type": "code",
   "execution_count": 2,
   "metadata": {},
   "outputs": [],
   "source": [
    "\n",
    "#pyplot lib provides method to plot\n",
    "from matplotlib import pyplot as plt\n",
    "#numpy provides method to read data from csv\n",
    "from numpy import *\n",
    "#sklearn.linear_model provides pre built library for ols method\n",
    "from sklearn.linear_model import LinearRegression"
   ]
  },
  {
   "cell_type": "code",
   "execution_count": 3,
   "metadata": {},
   "outputs": [
    {
     "data": {
      "text/plain": [
       "<matplotlib.figure.Figure at 0x1beb304eac8>"
      ]
     },
     "metadata": {},
     "output_type": "display_data"
    }
   ],
   "source": [
    "fig = plt.figure()\n",
    "#step 1 geting data\n",
    "points = genfromtxt(\"data.csv\", delimiter=\",\")\n",
    "x_points = []\n",
    "y_points = []\n",
    "for i in range(len(points)):\n",
    "    x_points.append(points[i, 0])\n",
    "    y_points.append(points[i, 1])\n"
   ]
  },
  {
   "cell_type": "code",
   "execution_count": 4,
   "metadata": {},
   "outputs": [
    {
     "data": {
      "image/png": "[encoded data removed]",
      "text/plain": [
       "<matplotlib.figure.Figure at 0x1beb304e518>"
      ]
     },
     "metadata": {},
     "output_type": "display_data"
    }
   ],
   "source": [
    "#previewing data \n",
    "def plot(x_points,y_points,gradient_points):\n",
    "\n",
    "    #plot takes 3 parameters first as array of x points second as array of y points third optional that says either to represent line or point\n",
    "    plt.plot(x_points,\n",
    "             y_points,\"ro\")\n",
    "    plt.plot(x_points,\n",
    "             gradient_points)\n",
    "    #labels of x and y\n",
    "    plt.ylabel('Marks')\n",
    "    plt.xlabel('Hours')\n",
    "    \n",
    "plot(x_points,y_points,x_points)"
   ]
  },
  {
   "cell_type": "markdown",
   "metadata": {},
   "source": [
    "we are going to calculate gradiant desent for above graph by ordanary least sqare method \n",
    "we will be calulateing formula\n",
    " $$y=mx+b$$\n"
   ]
  },
  {
   "cell_type": "markdown",
   "metadata": {},
   "source": [
    "where "
   ]
  },
  {
   "cell_type": "markdown",
   "metadata": {},
   "source": [
    "$$m=\\sum_{i=0}^n \\frac{(x_i-\\bar x)(y_i-\\bar y)}{(x_i-\\bar x)^2}$$"
   ]
  },
  {
   "cell_type": "markdown",
   "metadata": {},
   "source": [
    "$$ \\bar x = \\sum_{i=0}^n  \\frac {x_i}{n} $$\n",
    "$$ \\bar y = \\sum_{i=0}^n  \\frac {y_i}{n} $$\n",
    "\n",
    "$$ b=\\bar y-m\\bar x $$"
   ]
  },
  {
   "cell_type": "code",
   "execution_count": 5,
   "metadata": {},
   "outputs": [
    {
     "name": "stdout",
     "output_type": "stream",
     "text": [
      "Formula after substuting calculated values y = 1.48565184976 x + 0.0\n"
     ]
    }
   ],
   "source": [
    "#step 2 writing program for formula (Magic happens here)\n",
    "#sumation of x \n",
    "#initilizing with 0\n",
    "xsum=0\n",
    "#sumation of y\n",
    "##initilizing with 0\n",
    "ysum=0\n",
    "#n value\n",
    "n=len(x_points)\n",
    "#adding all values\n",
    "for x in range(0,n):\n",
    "    xsum+=x_points[x]\n",
    "    ysum+=y_points[x]\n",
    "#x bar value\n",
    "xmean=xsum/n\n",
    "#y bar value\n",
    "ymean=ysum/n\n",
    "#calculating m valye\n",
    "m=((xsum-xmean)*(ysum-ymean)/((xsum-xmean)**2))\n",
    "#calculating b value\n",
    "b=ymean-(m*xmean)\n",
    "#Formual equals\n",
    "print('Formula after substuting calculated values y =',m,'x +',b)\n"
   ]
  },
  {
   "cell_type": "code",
   "execution_count": 6,
   "metadata": {},
   "outputs": [
    {
     "data": {
      "image/png": "[encoded data removed]",
      "text/plain": [
       "<matplotlib.figure.Figure at 0x1beb5114588>"
      ]
     },
     "metadata": {},
     "output_type": "display_data"
    }
   ],
   "source": [
    "#step 3 using formula caluclating y points for ploting graph\n",
    "#initial value\n",
    "rate_gradent=[]\n",
    "#calculating y point by substuing x value in formula m*x+b which gives y point\n",
    "for x in range(0,n):\n",
    "    rate_gradent.append((m*x_points[x])+b)\n",
    "plot(x_points,y_points,rate_gradent)"
   ]
  },
  {
   "cell_type": "code",
   "execution_count": null,
   "metadata": {},
   "outputs": [],
   "source": []
  },
  {
   "cell_type": "markdown",
   "metadata": {},
   "source": [
    "# Calculating same values using machine  learning aproch\n",
    "Linear Regression  Using Gradient Descent "
   ]
  },
  {
   "cell_type": "markdown",
   "metadata": {},
   "source": [
    "we are going to perform oprations for same formula y=mx+b but with diffrent formulas that gives us ML approach"
   ]
  },
  {
   "cell_type": "code",
   "execution_count": 39,
   "metadata": {},
   "outputs": [],
   "source": [
    "#step 1 geting data this is already done \n",
    "#step 2 define Ml variables\n",
    "\n",
    "#num_iterations tells the system to perform this many itration and learn from it by reducing error rate\n",
    "num_iterations = 1000\n",
    "#learning_rate this defines how fast system should learn \n",
    "learning_rate = 0.0001\n",
    "\n",
    "#imitial vlaues of our variables that we are going to calculate\n",
    "initial_b = 0 \n",
    "initial_m = 0 "
   ]
  },
  {
   "cell_type": "markdown",
   "metadata": {},
   "source": [
    "calculating gradient decent  using this formula with respective \n",
    "to m and b"
   ]
  },
  {
   "cell_type": "markdown",
   "metadata": {},
   "source": [
    "$$\\frac{\\partial }{\\partial m}=\\frac{2}{N}\\sum_{i=0}^n -x_i(y_i-(mx_i+b))$$\n",
    "$$\\frac{\\partial }{\\partial b}=\\frac{2}{N}\\sum_{i=0}^n -(y_i-(mx_i+b))$$"
   ]
  },
  {
   "cell_type": "markdown",
   "metadata": {},
   "source": [
    "and caluclate error rate using this formula Error rate signifies how good the system is trained\n",
    "$$ Error_(m,b)=\\frac{1}{N}\\sum_{i=0}^n (y_i-(mx_i+b))^2$$"
   ]
  },
  {
   "cell_type": "code",
   "execution_count": 77,
   "metadata": {},
   "outputs": [],
   "source": [
    "#funtion for caluclating error\n",
    "def error_rate(b,m,points):\n",
    "    #value of n\n",
    "    n=len(points)\n",
    "    #initlizing error rate\n",
    "    error=0\n",
    "    for i in range(n):\n",
    "        x = points[i,0]\n",
    "        y = points[i,1]\n",
    "        error += (y-((m*x)+b))**2\n",
    "    return error/n;    \n",
    "#function to calculate gradient decent\n",
    "def gradient_decent(points,m,b,learning_rate,fig):\n",
    "    #initilizing variable\n",
    "    n=len(points)\n",
    "    m_gradient=0\n",
    "    b_gradient=0\n",
    "    for i in range(n):\n",
    "        x = points[i,0]\n",
    "        y = points[i,1]\n",
    "        b_gradient += - (2 / n) * (y - ((m * x) + b)) \n",
    "        m_gradient += - (2 / n) * x * (y -((m * x) + b))\n",
    "    #Calculating new gradient decents by subtracting compund of learning rate and new desent values from old decent values\n",
    "    new_m = m - (learning_rate * m_gradient)\n",
    "    new_b = b - (learning_rate * b_gradient)\n",
    "    \n",
    "    rate_gradent=[]\n",
    "    #calculating y point by substuing x value in formula m*x+b which gives y point\n",
    "   \n",
    "    for i in range(0,n):\n",
    "        rate_gradent.append((new_m*x_points[i])+new_b)\n",
    "    fig.plot(x_points,rate_gradent)\n",
    "    return [new_m,new_b]\n",
    "#function to call gradient decent function for specifed itration\n",
    "def gradient_decent_call(points,m,b,learning_rate,ittration,fig):\n",
    "    \n",
    "    for i in range(ittration):\n",
    "        m,b = gradient_decent(points,m,b,learning_rate,fig)\n",
    "    return [m,b]\n",
    "\n"
   ]
  },
  {
   "cell_type": "code",
   "execution_count": 80,
   "metadata": {},
   "outputs": [
    {
     "name": "stdout",
     "output_type": "stream",
     "text": [
      "error  5565.10783448\n"
     ]
    }
   ],
   "source": [
    "#step 3 claclulating m and b using formula defined\n",
    "#initial error rate\n",
    "error=error_rate(initial_b,initial_m,points)\n",
    "print('error ',error)\n",
    "\n",
    "\n"
   ]
  },
  {
   "cell_type": "markdown",
   "metadata": {},
   "source": [
    "here we are ploting line and checking again for any improvment by calculating values learnig rate defines how much a plot line chan diverge from exsisting position ittrations specify how many times program has to retrain it self by doing that many itration and improving itself with factor of our learning rate defined "
   ]
  },
  {
   "cell_type": "code",
   "execution_count": 81,
   "metadata": {},
   "outputs": [
    {
     "name": "stdout",
     "output_type": "stream",
     "text": [
      "Formula after substuting calculated values y = 1.47774408519 x + 0.0889365199374\n"
     ]
    },
    {
     "data": {
      "image/png": "[encoded data removed]",
      "text/plain": [
       "<matplotlib.figure.Figure at 0x1beb8504ba8>"
      ]
     },
     "metadata": {},
     "output_type": "display_data"
    }
   ],
   "source": [
    "fig = plt\n",
    "fig.plot(x_points,y_points,'ro')\n",
    "m,b=gradient_decent_call(points,initial_m,initial_b,learning_rate,num_iterations,fig)\n",
    "#Formual equals\n",
    "print('Formula after substuting calculated values y =',m,'x +',b)"
   ]
  },
  {
   "cell_type": "markdown",
   "metadata": {},
   "source": [
    "Graph above shows improvement in calcuation of gradient decent in per ittration"
   ]
  },
  {
   "cell_type": "code",
   "execution_count": 65,
   "metadata": {},
   "outputs": [
    {
     "name": "stdout",
     "output_type": "stream",
     "text": [
      "error  112.614810116\n"
     ]
    },
    {
     "data": {
      "image/png": "[encoded data removed]",
      "text/plain": [
       "<matplotlib.figure.Figure at 0x1beb62c7668>"
      ]
     },
     "metadata": {},
     "output_type": "display_data"
    }
   ],
   "source": [
    "#step 4 visulalization\n",
    "#susing formula caluclating y points for ploting graph\n",
    "#initial value\n",
    "rate_gradent=[]\n",
    "#calculating y point by substuing x value in formula m*x+b which gives y point\n",
    "for x in range(0,n):\n",
    "    rate_gradent.append((m*x_points[x])+b)\n",
    "plot(x_points,y_points,rate_gradent)\n",
    "print('error ',error_rate(b,m,points));"
   ]
  },
  {
   "cell_type": "markdown",
   "metadata": {},
   "source": []
  }
 ],
 "metadata": {
  "kernelspec": {
   "display_name": "Python 3",
   "language": "python",
   "name": "python3"
  },
  "language_info": {
   "codemirror_mode": {
    "name": "ipython",
    "version": 3
   },
   "file_extension": ".py",
   "mimetype": "text/x-python",
   "name": "python",
   "nbconvert_exporter": "python",
   "pygments_lexer": "ipython3",
   "version": "3.6.4"
  }
 },
 "nbformat": 4,
 "nbformat_minor": 2
}
