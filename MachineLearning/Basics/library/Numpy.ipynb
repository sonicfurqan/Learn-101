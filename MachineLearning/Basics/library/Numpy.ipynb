{
 "cells": [
  {
   "cell_type": "code",
   "execution_count": 1,
   "metadata": {},
   "outputs": [],
   "source": [
    "#numpy libarary helps in stroring and computing lists\n",
    "import numpy as np"
   ]
  },
  {
   "cell_type": "code",
   "execution_count": 2,
   "metadata": {},
   "outputs": [],
   "source": [
    "#1-D array \n",
    "array=np.array([1,2,3,4,5,6,7,8,9])"
   ]
  },
  {
   "cell_type": "code",
   "execution_count": 3,
   "metadata": {},
   "outputs": [
    {
     "name": "stdout",
     "output_type": "stream",
     "text": [
      "1st position 1\n",
      "5st position 5\n",
      "9st position 9\n"
     ]
    }
   ],
   "source": [
    "#geting element from spesific position\n",
    "print('1st position',array[0])\n",
    "print('5st position',array[4])\n",
    "print('9st position',array[8])"
   ]
  },
  {
   "cell_type": "code",
   "execution_count": 4,
   "metadata": {},
   "outputs": [
    {
     "name": "stdout",
     "output_type": "stream",
     "text": [
      "1st position [1]\n",
      "3rd position t0 5th position [3 4 5]\n",
      "6st position t0 7nd position [6 7]\n",
      "from start to 6th position [1 2 3 4 5 6]\n"
     ]
    }
   ],
   "source": [
    "#geting sub elements of array\n",
    "print('1st position',array[0:1])\n",
    "print('3rd position t0 5th position',array[2:5])\n",
    "print('6st position t0 7nd position',array[5:7])\n",
    "print('from start to 6th position',array[:6])"
   ]
  },
  {
   "cell_type": "code",
   "execution_count": 5,
   "metadata": {},
   "outputs": [
    {
     "name": "stdout",
     "output_type": "stream",
     "text": [
      "size 9\n"
     ]
    }
   ],
   "source": [
    "#geting size of array\n",
    "print('size',array.size)"
   ]
  },
  {
   "cell_type": "code",
   "execution_count": 6,
   "metadata": {},
   "outputs": [
    {
     "name": "stdout",
     "output_type": "stream",
     "text": [
      "sum 45\n",
      "max 9\n",
      "min 1\n",
      "mean 5.0\n"
     ]
    }
   ],
   "source": [
    "#finding min max and sum \n",
    "print('sum',array.sum())\n",
    "print('max',array.max())\n",
    "print('min',array.min())\n",
    "#mean = 1+2+3+4+5+6+7+8+9 / 9\n",
    "print('mean',array.mean())"
   ]
  },
  {
   "cell_type": "code",
   "execution_count": 7,
   "metadata": {},
   "outputs": [
    {
     "name": "stdout",
     "output_type": "stream",
     "text": [
      "[[ 1  2  3  4]\n",
      " [ 5  6  7  8]\n",
      " [ 9 10 11 12]]\n"
     ]
    }
   ],
   "source": [
    "#2-D array\n",
    "arrays=np.array([(1,2,3,4),(5,6,7,8),(9,10,11,12)])\n",
    "print(arrays)"
   ]
  },
  {
   "cell_type": "code",
   "execution_count": 8,
   "metadata": {},
   "outputs": [
    {
     "name": "stdout",
     "output_type": "stream",
     "text": [
      "1st row 1st element 1\n",
      "1st row last element 4\n",
      "3rd row 2nd element  10\n",
      "2rd row 3nd element  7\n"
     ]
    }
   ],
   "source": [
    "#geting element from spesific position\n",
    "#(start_position,end_position)\n",
    "print('1st row 1st element',arrays[0,0])\n",
    "print('1st row last element',arrays[0,3])\n",
    "print('3rd row 2nd element ',arrays[2,1])\n",
    "print('2rd row 3nd element ',arrays[1,2])"
   ]
  },
  {
   "cell_type": "code",
   "execution_count": 9,
   "metadata": {},
   "outputs": [
    {
     "name": "stdout",
     "output_type": "stream",
     "text": [
      "1st row [[1 2 3 4]]\n",
      "3rd row [[ 9 10 11 12]]\n",
      "2nd row 1st 2 elements [5 6]\n",
      "3nd row last 2 elements [11 12]\n"
     ]
    }
   ],
   "source": [
    "#geting sub elements of array\n",
    "#(row,coloum)\n",
    "print('1st row',arrays[0:1])\n",
    "print('3rd row',arrays[2:3])\n",
    "#[start_position_row:end_position_row,start_position_coloum:end_position_coloum]\n",
    "print('2nd row 1st 2 elements',arrays[1,:2])\n",
    "print('3nd row last 2 elements',arrays[2,2:])"
   ]
  },
  {
   "cell_type": "code",
   "execution_count": 10,
   "metadata": {},
   "outputs": [
    {
     "name": "stdout",
     "output_type": "stream",
     "text": [
      "size (3, 4)\n"
     ]
    }
   ],
   "source": [
    "#size of 2-D array\n",
    "print('size',arrays.shape)"
   ]
  },
  {
   "cell_type": "code",
   "execution_count": 11,
   "metadata": {},
   "outputs": [
    {
     "name": "stdout",
     "output_type": "stream",
     "text": [
      "[10 26 42]\n",
      "sum of 1st row 10\n"
     ]
    }
   ],
   "source": [
    "#sum min max of array\n",
    "#1+2+3+4=10\n",
    "#2 +6+  10=26\n",
    "#9+ 10+ 11+ 12=42\n",
    "print(arrays.sum(axis=1))\n",
    "print('sum of 1st row',arrays[0:1].sum())"
   ]
  },
  {
   "cell_type": "code",
   "execution_count": 12,
   "metadata": {},
   "outputs": [
    {
     "name": "stdout",
     "output_type": "stream",
     "text": [
      "[15 18 21 24]\n"
     ]
    }
   ],
   "source": [
    "#sum min max of array\n",
    "#1+5+9=15\n",
    "#5 +6+  7+  8=18\n",
    "#3+ 7+ 11=21\n",
    "#4+ 8+ 12=24\n",
    "print(arrays.sum(axis=0))"
   ]
  },
  {
   "cell_type": "code",
   "execution_count": 13,
   "metadata": {},
   "outputs": [],
   "source": [
    "#reading data from csv and storing \n",
    "data=np.genfromtxt('data.csv',delimiter=';', skip_header=1)\n",
    "header=np.genfromtxt('data.csv',delimiter=';',dtype=None)"
   ]
  },
  {
   "cell_type": "code",
   "execution_count": 14,
   "metadata": {},
   "outputs": [
    {
     "name": "stdout",
     "output_type": "stream",
     "text": [
      "[[b'\"fixed acidity\"' b'\"volatile acidity\"' b'\"citric acid\"'\n",
      "  b'\"residual sugar\"' b'\"chlorides\"' b'\"free sulfur dioxide\"'\n",
      "  b'\"total sulfur dioxide\"' b'\"density\"' b'\"pH\"' b'\"sulphates\"'\n",
      "  b'\"alcohol\"' b'\"quality\"']]\n",
      "[[  7.4      0.7      0.       1.9      0.076   11.      34.       0.9978\n",
      "    3.51     0.56     9.4      5.    ]\n",
      " [  7.8      0.88     0.       2.6      0.098   25.      67.       0.9968\n",
      "    3.2      0.68     9.8      5.    ]]\n"
     ]
    }
   ],
   "source": [
    "header=header[0:1,:]\n",
    "print(header)\n",
    "print(data[0:2,:])"
   ]
  },
  {
   "cell_type": "code",
   "execution_count": null,
   "metadata": {},
   "outputs": [],
   "source": []
  },
  {
   "cell_type": "code",
   "execution_count": null,
   "metadata": {},
   "outputs": [],
   "source": []
  },
  {
   "cell_type": "code",
   "execution_count": null,
   "metadata": {},
   "outputs": [],
   "source": []
  },
  {
   "cell_type": "code",
   "execution_count": null,
   "metadata": {},
   "outputs": [],
   "source": []
  }
 ],
 "metadata": {
  "kernelspec": {
   "display_name": "Python 3",
   "language": "python",
   "name": "python3"
  },
  "language_info": {
   "codemirror_mode": {
    "name": "ipython",
    "version": 3
   },
   "file_extension": ".py",
   "mimetype": "text/x-python",
   "name": "python",
   "nbconvert_exporter": "python",
   "pygments_lexer": "ipython3",
   "version": "3.6.4"
  }
 },
 "nbformat": 4,
 "nbformat_minor": 2
}
